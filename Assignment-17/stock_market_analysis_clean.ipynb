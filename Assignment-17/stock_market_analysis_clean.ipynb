{
 "cells": [
  {
   "cell_type": "code",
   "execution_count": null,
   "id": "a927a1f1-0d00-4577-8993-bb8b1f50aa3d",
   "metadata": {},
   "outputs": [],
   "source": [
    "import pandas as pd\n",
    "import numpy as np\n",
    "import matplotlib.pyplot as plt\n",
    "%matplotlib inline\n",
    "import seaborn as sns\n",
    "import warnings\n",
    "warnings.filterwarnings('ignore')"
   ]
  },
  {
   "cell_type": "code",
   "execution_count": null,
   "id": "5ae3770d-9767-4ecc-815a-395003d69901",
   "metadata": {},
   "outputs": [],
   "source": [
    "df = pd.read_csv('BAJAJFINSV.csv')\n",
    "\n",
    "df.head()"
   ]
  },
  {
   "cell_type": "code",
   "execution_count": null,
   "id": "43c1a1cc-f3b9-401b-8e06-2324f361e757",
   "metadata": {},
   "outputs": [],
   "source": [
    "df.info()"
   ]
  },
  {
   "cell_type": "code",
   "execution_count": null,
   "id": "8f4bb4b6-e21d-49ec-be2b-b3bed175946a",
   "metadata": {},
   "outputs": [],
   "source": [
    "df.shape"
   ]
  },
  {
   "cell_type": "code",
   "execution_count": null,
   "id": "87658472-d4d0-46f0-9033-e3de399399b0",
   "metadata": {},
   "outputs": [],
   "source": [
    "df.describe()"
   ]
  },
  {
   "cell_type": "code",
   "execution_count": null,
   "id": "04038e34-5d7d-4e65-a1b6-56602eb0aa18",
   "metadata": {},
   "outputs": [],
   "source": [
    "df.isnull().sum()"
   ]
  },
  {
   "cell_type": "code",
   "execution_count": null,
   "id": "31473fff-2cde-44bd-9c2e-c3e99f59b9d2",
   "metadata": {},
   "outputs": [],
   "source": [
    "df.duplicated().sum()"
   ]
  },
  {
   "cell_type": "code",
   "execution_count": null,
   "id": "ea9aed7e-b228-4261-9f62-77da48a554b9",
   "metadata": {},
   "outputs": [],
   "source": [
    "print(\"\\nDate range:\", df['Date'].min(), \"to\", df['Date'].max())"
   ]
  },
  {
   "cell_type": "code",
   "execution_count": null,
   "id": "6537e9ff-1a01-450d-8f68-5fa78a867bb2",
   "metadata": {},
   "outputs": [],
   "source": [
    "df['Date'] = pd.to_datetime(df['Date'])\n",
    "df.sort_values('Date', inplace=True)\n",
    "\n",
    "plt.figure(figsize=(12,6))\n",
    "plt.plot(df['Date'], df['Close'], label='Close Price', color='blue')\n",
    "plt.xlabel('Date')\n",
    "plt.ylabel('Price')\n",
    "plt.title('Stock Close Price Over Time')\n",
    "plt.legend()\n",
    "plt.grid(True)\n",
    "plt.show()"
   ]
  },
  {
   "cell_type": "code",
   "execution_count": null,
   "id": "754f11df-7652-415c-93a0-95c20d05d225",
   "metadata": {},
   "outputs": [],
   "source": [
    "from statsmodels.tsa.stattools import adfuller\n",
    "\n",
    "df.set_index('Date',inplace=True)\n",
    "ts = df['Close']"
   ]
  },
  {
   "cell_type": "code",
   "execution_count": null,
   "id": "6d2075f0-a238-4e2d-a036-11a6307e27e9",
   "metadata": {},
   "outputs": [],
   "source": [
    "rolling_mean = ts.rolling(window = 30).mean()\n",
    "rolling_std = ts.rolling(window=30).std()"
   ]
  },
  {
   "cell_type": "code",
   "execution_count": null,
   "id": "a2efacab-5883-469d-aed0-f5a39e1702af",
   "metadata": {},
   "outputs": [],
   "source": [
    "plt.figure(figsize=(12,6))\n",
    "plt.plot(ts,label = 'Original Series',color = 'blue')\n",
    "plt.plot(rolling_mean,label = 'Rolling Mean(30 days)',color ='red')\n",
    "plt.plot(rolling_std, label='Rolling Std (30 days)', color='green')\n",
    "plt.title('Rolling Mean & Standard Deviation')\n",
    "plt.xlabel('Date')\n",
    "plt.ylabel('Close Price')\n",
    "plt.legend()\n",
    "plt.grid(True)\n",
    "plt.tight_layout()\n",
    "plt.show()"
   ]
  },
  {
   "cell_type": "code",
   "execution_count": null,
   "id": "4add7e74-4cce-478e-88d2-157d8c265f5a",
   "metadata": {},
   "outputs": [],
   "source": [
    "adf_result = adfuller(ts.dropna())\n",
    "print(\"ADF Test Results:\")\n",
    "print(f\"ADF Statistic: {adf_result[0]}\")\n",
    "print(f\"p-value: {adf_result[1]}\")\n",
    "print(\"Critical Values:\")\n",
    "for key, value in adf_result[4].items():\n",
    "    print(f\"   {key}: {value}\")"
   ]
  },
  {
   "cell_type": "code",
   "execution_count": null,
   "id": "04d9359a-088b-41b0-9a47-4f6162ff2a1f",
   "metadata": {},
   "outputs": [],
   "source": [
    "ts_diff = ts.diff().dropna()\n",
    "plt.figure(figsize=(12,6))\n",
    "plt.plot(ts_diff, color='purple')\n",
    "plt.title('First-order Differenced Close Price Series')\n",
    "plt.xlabel('Date')\n",
    "plt.ylabel('Differenced Price')\n",
    "plt.grid(True)\n",
    "plt.tight_layout()\n",
    "plt.show()"
   ]
  },
  {
   "cell_type": "code",
   "execution_count": null,
   "id": "41593121-33fd-44a7-9a32-3486fb218b20",
   "metadata": {},
   "outputs": [],
   "source": [
    "adf_diff_result = adfuller(ts_diff)\n",
    "print(\"ADF Test Results (After First Differencing):\")\n",
    "print(f\"ADF Statistic: {adf_diff_result[0]}\")\n",
    "print(f\"p-value: {adf_diff_result[1]}\")\n",
    "print(\"Critical Values:\")\n",
    "for key, value in adf_diff_result[4].items():\n",
    "    print(f\"   {key}: {value}\")"
   ]
  },
  {
   "cell_type": "code",
   "execution_count": null,
   "id": "35e0fe61-3c26-43f1-bafb-9b6a2f30ede9",
   "metadata": {},
   "outputs": [],
   "source": [
    "from statsmodels.graphics.tsaplots import plot_acf, plot_pacf\n",
    "from statsmodels.tsa.seasonal import seasonal_decompose"
   ]
  },
  {
   "cell_type": "code",
   "execution_count": null,
   "id": "b722b8d1-6178-4679-a461-71025a8c6e10",
   "metadata": {},
   "outputs": [],
   "source": [
    "# --- Trend and Seasonality Decomposition ---\n",
    "decomposition = seasonal_decompose(ts, model='additive', period=30)\n",
    "\n",
    "plt.figure(figsize=(14,10))\n",
    "plt.subplot(411)\n",
    "plt.plot(decomposition.observed, label='Observed')\n",
    "plt.legend(loc='upper left')\n",
    "plt.subplot(412)\n",
    "plt.plot(decomposition.trend, label='Trend', color='orange')\n",
    "plt.legend(loc='upper left')\n",
    "plt.subplot(413)\n",
    "plt.plot(decomposition.seasonal, label='Seasonality', color='green')\n",
    "plt.legend(loc='upper left')\n",
    "plt.subplot(414)\n",
    "plt.plot(decomposition.resid, label='Residuals', color='red')\n",
    "plt.legend(loc='upper left')\n",
    "plt.suptitle('Trend, Seasonality, and Residuals - Additive Decomposition', fontsize=16)\n",
    "plt.tight_layout()\n",
    "plt.show()"
   ]
  },
  {
   "cell_type": "markdown",
   "id": "2577becd-8555-4ce5-aae6-ae24ef57b8e5",
   "metadata": {},
   "source": [
    "# Time Series Decomposition Analysis\n",
    "\n",
    "The charts display an additive decomposition of a time series from 2008 to 2020, breaking it down into its fundamental components:\n",
    "\n",
    "1. **Observed Data (Blue, Top Chart)**\n",
    "   This is the original time series showing the raw data values over time. The values range from near 0 to about 10,000. There's a clear upward trend over the years, with a significant increase starting around 2016. There appears to be a notable drop around early 2020 (likely related to the COVID-19 pandemic) followed by a recovery.\n",
    "\n",
    "2. **Trend Component (Yellow, Second Chart)**\n",
    "   This isolates the long-term progression of the series after removing seasonality and noise. The trend shows a steady, gradual increase from 2008 to 2014, followed by a more pronounced upward trajectory from 2015 to 2018. Around 2020, there's a significant dip (matching the observed data) followed by a recovery to previous levels.\n",
    "\n",
    "3. **Seasonality Component (Green, Third Chart)**\n",
    "   This shows the regular, periodic fluctuations in the data. The consistent pattern of peaks and valleys indicates a regular seasonal cycle that repeats throughout the entire time period. The amplitude of these seasonal variations appears relatively stable, generally ranging between -20 and +10 units.\n",
    "\n",
    "4. **Residuals (Red, Bottom Chart)**\n",
    "   These represent the irregular or random variations in the data after removing trend and seasonality. Residuals should ideally look like random noise without patterns. In this case, the residuals appear relatively small and random until around 2016-2017, when they become larger and more volatile. This suggests that the variability in the data increased in later years, with a particularly large negative spike visible around 2020."
   ]
  },
  {
   "cell_type": "code",
   "execution_count": null,
   "id": "09f9e05f-54bf-428f-a24f-159b9ab0d365",
   "metadata": {},
   "outputs": [],
   "source": [
    "# --- Autocorrelation and Partial Autocorrelation ---\n",
    "plt.figure(figsize=(14,6))\n",
    "\n",
    "plt.subplot(1, 2, 1)\n",
    "plot_acf(ts.dropna(), lags=50, ax=plt.gca())\n",
    "plt.title('Autocorrelation (ACF)')\n",
    "\n",
    "plt.subplot(1, 2, 2)\n",
    "plot_pacf(ts.dropna(), lags=50, ax=plt.gca(), method='ywm')\n",
    "plt.title('Partial Autocorrelation (PACF)')\n",
    "\n",
    "plt.tight_layout()\n",
    "plt.show()"
   ]
  },
  {
   "cell_type": "code",
   "execution_count": null,
   "id": "c8804afa-36cd-47dd-ab73-fed4491e43d8",
   "metadata": {},
   "outputs": [],
   "source": [
    "# Only convert and set index if 'Date' is still a column\n",
    "if 'Date' in df.columns:\n",
    "    df['Date'] = pd.to_datetime(df['Date'])\n",
    "    df.set_index('Date', inplace=True)\n",
    "\n",
    "# Extract Close price and handle missing values\n",
    "ts = df['Close'].asfreq('B').fillna(method='ffill')\n",
    "\n",
    "# Plot ACF and PACF\n",
    "fig, axes = plt.subplots(1, 2, figsize=(16, 5))\n",
    "plot_acf(ts.diff().dropna(), ax=axes[0], lags=40)\n",
    "plot_pacf(ts.diff().dropna(), ax=axes[1], lags=40)\n",
    "axes[0].set_title('Autocorrelation Function (ACF)')\n",
    "axes[1].set_title('Partial Autocorrelation Function (PACF)')\n",
    "plt.tight_layout()\n",
    "plt.show()"
   ]
  },
  {
   "cell_type": "code",
   "execution_count": null,
   "id": "c0dfc524-84b1-4a36-8c32-cea7ae39115c",
   "metadata": {},
   "outputs": [],
   "source": [
    "from statsmodels.tsa.arima.model import ARIMA"
   ]
  },
  {
   "cell_type": "code",
   "execution_count": null,
   "id": "d84a982e-0666-4281-9230-e554b0a1edeb",
   "metadata": {},
   "outputs": [],
   "source": [
    "model = ARIMA(ts, order = (2,1,2))\n",
    "model_fit = model.fit()"
   ]
  },
  {
   "cell_type": "code",
   "execution_count": null,
   "id": "0b111680-62d8-48a9-b915-5d59ab3e0fc4",
   "metadata": {},
   "outputs": [],
   "source": [
    "print(model_fit.summary())"
   ]
  },
  {
   "cell_type": "markdown",
   "id": "9daaf053-01e7-4f08-b2f5-b880abfbe639",
   "metadata": {},
   "source": [
    "## ARIMA Model Results\n",
    "\n",
    "The fitted ARIMA model shows:\n",
    "\n",
    "* **AR(1) & AR(2)** terms (`ar.L1`, `ar.L2`) and\n",
    "* **MA(1) & MA(2)** terms (`ma.L1`, `ma.L2`) are all statistically significant (*p-values < 0.05*).\n",
    "* **AIC = 39902.161** and **BIC = 39932.781**: These metrics are used for model comparison (lower is better).\n",
    "* `sigma2` is the estimated variance of the residuals.\n",
    "* **Warning:** *ConvergenceWarning* suggests the model took longer to fit or had difficulty converging — not unusual for complex ARIMA models, but something to watch if model diagnostics perform poorly."
   ]
  },
  {
   "cell_type": "code",
   "execution_count": null,
   "id": "546a63c7-0e06-4cab-9b0a-eb7a6474039a",
   "metadata": {},
   "outputs": [],
   "source": [
    "forecast_step = 30\n",
    "forecast = model_fit.get_forecast(steps = forecast_step)\n",
    "forecast_mean = forecast.predicted_mean\n",
    "conf_int = forecast.conf_int()"
   ]
  },
  {
   "cell_type": "code",
   "execution_count": null,
   "id": "25e8ef56-627d-41ef-97e5-6b9371d930a0",
   "metadata": {},
   "outputs": [],
   "source": [
    "plt.figure(figsize=(14, 6))\n",
    "plt.plot(ts, label='Actual', color='blue')\n",
    "plt.plot(forecast_mean.index, forecast_mean, label='Forecast', color='red')\n",
    "plt.fill_between(forecast_mean.index, \n",
    "                 conf_int.iloc[:, 0], \n",
    "                 conf_int.iloc[:, 1], \n",
    "                 color='pink', alpha=0.3, label='Confidence Interval')\n",
    "\n",
    "plt.title('ARIMA Forecast vs Actual (Next 30 Days)')\n",
    "plt.xlabel('Date')\n",
    "plt.ylabel('Stock Price')\n",
    "plt.legend()\n",
    "plt.grid(True)\n",
    "plt.show()"
   ]
  },
  {
   "cell_type": "markdown",
   "id": "16403bf8-849a-44cb-813f-9a8295c6da65",
   "metadata": {},
   "source": [
    "## Stock Price Forecast Analysis\n",
    "\n",
    "* **Upward Trend (2008–2021):**\n",
    "  * The stock price shows long-term **growth**, with some volatility — especially around 2020 (likely due to COVID-19 crash and rebound).\n",
    "* **Forecast Segment:**\n",
    "  * The forecast (red) starts where the actual data ends (~late 2021).\n",
    "  * It **continues the upward trend**, reflecting what the ARIMA model \"learned\" from past data.\n",
    "* **Confidence Interval:**\n",
    "  * The pink shaded area grows wider — this is common in time series forecasting.\n",
    "  * It shows that the model becomes **less certain** the further it predicts into the future."
   ]
  },
  {
   "cell_type": "code",
   "execution_count": null,
   "id": "c0d8677a-3e9f-4a76-a12b-f515a3be424a",
   "metadata": {},
   "outputs": [],
   "source": [
    "from sklearn.metrics import mean_squared_error, mean_absolute_error"
   ]
  },
  {
   "cell_type": "code",
   "execution_count": null,
   "id": "85d48b7a-968b-4335-ab98-19f6794551b6",
   "metadata": {},
   "outputs": [],
   "source": [
    "pred = model_fit.predict(start =1,end = len(ts)-1,typ = 'levels')\n",
    "actual = ts[1:]\n",
    "rmse = np.sqrt(mean_squared_error(actual, pred))\n",
    "mae = mean_absolute_error(actual, pred)\n",
    "mape = np.mean(np.abs((actual - pred) / actual)) * 100\n",
    "\n",
    "print(f\"RMSE: {rmse:.2f}\")\n",
    "print(f\"MAE : {mae:.2f}\")\n",
    "print(f\"MAPE: {mape:.2f}%\")"
   ]
  },
  {
   "cell_type": "markdown",
   "id": "bf91a734-54e3-4844-b7f6-8b32ba45757a",
   "metadata": {},
   "source": [
    "## Forecast Accuracy Metrics\n",
    "\n",
    "| Metric | Value | Interpretation |\n",
    "|--------|-------|---------------|\n",
    "| **RMSE** | `89.36` | On average, the prediction deviates from the actual value by ~89 units. Lower is better. |\n",
    "| **MAE** | `41.72` | The average **absolute** difference between predicted and actual prices. Very useful and interpretable. |\n",
    "| **MAPE** | `1.66%` | The average prediction error is only about **1.66%** of the actual value — this is **very accurate** for a stock model. |"
   ]
  },
  {
   "cell_type": "code",
   "execution_count": null,
   "id": "e0a0d6c3-fe85-4d2b-b992-43ded0d0927e",
   "metadata": {},
   "outputs": [],
   "source": [
    "from sklearn.preprocessing import MinMaxScaler\n",
    "import tensorflow as tf\n",
    "from tensorflow.keras.models import Sequential\n",
    "from tensorflow.keras.layers import LSTM, Dense,Dropout\n",
    "from tensorflow.keras.optimizers import Adam"
   ]
  },
  {
   "cell_type": "code",
   "execution_count": null,
   "id": "915c15b5-dd5a-4634-a93d-f3b10242d8d9",
   "metadata": {},
   "outputs": [],
   "source": [
    "close_data = df[['Close']].values"
   ]
  },
  {
   "cell_type": "code",
   "execution_count": null,
   "id": "7c936ce0-3dc6-495f-a1a2-5f732ab84495",
   "metadata": {},
   "outputs": [],
   "source": [
    "scaler = MinMaxScaler(feature_range=(0,1))\n",
    "scaled_data = scaler.fit_transform(close_data)"
   ]
  },
  {
   "cell_type": "code",
   "execution_count": null,
   "id": "6696ca15-079d-4a06-9fbd-974d970015ad",
   "metadata": {},
   "outputs": [],
   "source": [
    "def create_sequences(data, time_steps=60):\n",
    "    X, y = [], []\n",
    "    for i in range(time_steps, len(data)):\n",
    "        X.append(data[i - time_steps:i, 0])\n",
    "        y.append(data[i, 0])\n",
    "    return np.array(X), np.array(y)\n",
    "\n",
    "X_train, y_train = create_sequences(train_data)\n",
    "X_test, y_test = create_sequences(test_data)"
   ]
  },
  {
   "cell_type": "code",
   "execution_count": null,
   "id": "67f2a838-6316-48c7-98d7-decb53e6b632",
   "metadata": {},
   "outputs": [],
   "source": [
    "time_steps = 60\n",
    "total_points = len(scaled_data)"
   ]
  },
  {
   "cell_type": "code",
   "execution_count": null,
   "id": "d515b265-fc05-4c03-a47b-bd8bea83d00e",
   "metadata": {},
   "outputs": [],
   "source": [
    "if total_points <= time_steps + 10:\n",
    "    raise ValueError(\"Dataset too small to create sequences for LSTM. Add more data.\")"
   ]
  },
  {
   "cell_type": "code",
   "execution_count": null,
   "id": "be74a6aa-1552-48ec-8fe9-108c7a752384",
   "metadata": {},
   "outputs": [],
   "source": [
    "train_size = total_points - time_steps\n",
    "train_data = scaled_data[:train_size]\n",
    "test_data = scaled_data[train_size - time_steps:]"
   ]
  },
  {
   "cell_type": "code",
   "execution_count": null,
   "id": "5c897722-ea6e-4c65-ad02-1d6eb9708c43",
   "metadata": {},
   "outputs": [],
   "source": []
  },
  {
   "cell_type": "code",
   "execution_count": null,
   "id": "7326b00c-6562-49fd-87f0-f9603c0855f2",
   "metadata": {},
   "outputs": [],
   "source": [
    "if X_test.size > 0:\n",
    "    X_train = X_train.reshape((X_train.shape[0], X_train.shape[1], 1))\n",
    "    X_test = X_test.reshape((X_test.shape[0], X_test.shape[1], 1))\n",
    "    print(\"Shapes after reshape:\")\n",
    "    print(f\"X_train: {X_train.shape}, y_train: {y_train.shape}\")\n",
    "    print(f\"X_test: {X_test.shape}, y_test: {y_test.shape}\")\n",
    "else:\n",
    "    raise ValueError(\"X_test is empty after sequence creation. Cannot proceed to training.\")"
   ]
  },
  {
   "cell_type": "code",
   "execution_count": null,
   "id": "f93700d8-9a13-4c0d-a668-bc8e2035cb3c",
   "metadata": {},
   "outputs": [],
   "source": [
    "model = Sequential()\n",
    "model.add(LSTM(units=50, return_sequences=False, input_shape=(X_train.shape[1], 1)))\n",
    "model.add(Dense(1))"
   ]
  },
  {
   "cell_type": "code",
   "execution_count": null,
   "id": "b5610f5b-3d84-4aed-8781-2bbe4a9dbb8e",
   "metadata": {},
   "outputs": [],
   "source": [
    "model.compile(optimizer=Adam(learning_rate=0.001), loss='mean_squared_error')"
   ]
  },
  {
   "cell_type": "code",
   "execution_count": null,
   "id": "6fb80a06-c21e-4507-9148-c2b704ee216a",
   "metadata": {},
   "outputs": [],
   "source": [
    "history = model.fit(\n",
    "    X_train, y_train,\n",
    "    validation_data=(X_test, y_test),\n",
    "    epochs=20,\n",
    "    batch_size=32,\n",
    "    verbose=1\n",
    ")"
   ]
  },
  {
   "cell_type": "code",
   "execution_count": null,
   "id": "a57ab739-d8fa-4651-b779-c72c34b96b00",
   "metadata": {},
   "outputs": [],
   "source": [
    "model.summary()"
   ]
  },
  {
   "cell_type": "code",
   "execution_count": null,
   "id": "654c273a-3623-4031-a51f-86ed2e77e5ad",
   "metadata": {},
   "outputs": [],
   "source": [
    "plt.figure(figsize=(10,5))\n",
    "plt.plot(history.history['loss'],label ='Training Loss',color = 'blue')\n",
    "plt.plot(history.history['val_loss'],label ='Validation Loss',color = 'red')\n",
    "plt.title(\"Training Vs Validation Loss\")\n",
    "plt.xlabel('Epochs')\n",
    "plt.ylabel('Loss (MSE)')\n",
    "plt.legend()\n",
    "plt.grid(True)\n",
    "plt.tight_layout()\n",
    "plt.show()"
   ]
  },
  {
   "cell_type": "code",
   "execution_count": null,
   "id": "0bfe4621-3aae-4793-9939-51093b18cc03",
   "metadata": {},
   "outputs": [],
   "source": [
    "y_pred_scaled = model.predict(X_test)"
   ]
  },
  {
   "cell_type": "code",
   "execution_count": null,
   "id": "7fae63b1-0c52-4f70-a435-614d4b5ec911",
   "metadata": {},
   "outputs": [],
   "source": [
    "y_pred = scaler.inverse_transform(y_pred_scaled)\n",
    "y_actual = scaler.inverse_transform(y_test.reshape(-1, 1))"
   ]
  },
  {
   "cell_type": "code",
   "execution_count": null,
   "id": "c64d17b8-5cf0-43b7-bb8f-34dfd2128eb8",
   "metadata": {},
   "outputs": [],
   "source": [
    "rmse = np.sqrt(mean_squared_error(y_actual,y_pred))\n",
    "mae = mean_absolute_error(y_actual,y_pred)\n",
    "mape = np.mean(np.abs((y_actual - y_pred) / y_actual)) * 100"
   ]
  },
  {
   "cell_type": "code",
   "execution_count": null,
   "id": "b787609c-be76-4db4-ba7b-1123b6216a13",
   "metadata": {},
   "outputs": [],
   "source": [
    "print(f\"Evaluation Metrics:\")\n",
    "print(f\"RMSE: {rmse:.2f}\")\n",
    "print(f\"MAE: {mae:.2f}\")\n",
    "print(f\"MAPE: {mape:.2f}%\")"
   ]
  },
  {
   "cell_type": "markdown",
   "id": "1e087346-efa9-4f6d-9b8e-3f5901507748",
   "metadata": {},
   "source": [
    "## Stock Price Model Performance Metrics\n",
    "\n",
    "| Metric | Value | Interpretation |\n",
    "|--------|-------|---------------|\n",
    "| **RMSE** | 418.81 | On average, predictions deviate by ~₹418 from actual values. RMSE penalizes large errors. |\n",
    "| **MAE** | 337.63 | Average absolute error is ~₹337.63 — this is a direct indication of deviation. |\n",
    "| **MAPE** | 3.38% | Your model is, on average, **96.6% accurate** in predicting stock price! This is very good. |"
   ]
  },
  {
   "cell_type": "code",
   "execution_count": null,
   "id": "0d3a1671-5b78-423b-8557-d8ddc58f7885",
   "metadata": {},
   "outputs": [],
   "source": [
    "plt.figure(figsize=(12, 6))\n",
    "plt.plot(y_actual, label='Actual', color='blue')\n",
    "plt.plot(y_pred, label='Predicted (LSTM)', color='red')\n",
    "plt.title('LSTM: Actual vs Predicted Stock Prices')\n",
    "plt.xlabel('Time')\n",
    "plt.ylabel('Stock Price')\n",
    "plt.legend()\n",
    "plt.grid(True)\n",
    "plt.show()"
   ]
  },
  {
   "cell_type": "code",
   "execution_count": null,
   "id": "1b83181e-946d-432f-b4a9-e568aa311614",
   "metadata": {},
   "outputs": [],
   "source": []
  }
 ],
 "metadata": {
  "kernelspec": {
   "display_name": "yourenvironment",
   "language": "python",
   "name": "yourenvironment"
  },
  "language_info": {
   "codemirror_mode": {
    "name": "ipython",
    "version": 3
   },
   "file_extension": ".py",
   "mimetype": "text/x-python",
   "name": "python",
   "nbconvert_exporter": "python",
   "pygments_lexer": "ipython3",
   "version": "3.12.7"
  }
 },
 "nbformat": 4,
 "nbformat_minor": 5
}
